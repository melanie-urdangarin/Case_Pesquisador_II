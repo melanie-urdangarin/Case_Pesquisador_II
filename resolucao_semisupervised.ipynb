{
 "cells": [
  {
   "cell_type": "markdown",
   "id": "b9065315-be77-47ed-8a2f-afcd33a85104",
   "metadata": {},
   "source": [
    "### **Pede-se nesta prova prática que o candidato treine um classificador binário incorporando o conceito de stacking em sua solução, e que esteja apto a justificar as escolhas que foram feitas ao longo do desenvolvimento.**"
   ]
  },
  {
   "cell_type": "code",
   "execution_count": 1,
   "id": "d53a3c18-da35-4e76-a7cb-9a0f258ab391",
   "metadata": {},
   "outputs": [
    {
     "name": "stderr",
     "output_type": "stream",
     "text": [
      "/home/melanie/anaconda3/envs/case_II/lib/python3.7/site-packages/sklearn/utils/deprecation.py:143: FutureWarning: The sklearn.utils.testing module is  deprecated in version 0.22 and will be removed in version 0.24. The corresponding classes / functions should instead be imported from sklearn.utils. Anything that cannot be imported from sklearn.utils is now part of the private API.\n",
      "  warnings.warn(message, FutureWarning)\n"
     ]
    }
   ],
   "source": [
    "import sweetviz as sv\n",
    "import numpy as np\n",
    "import pandas as pd\n",
    "import sklearn\n",
    "from sklearn.cluster import KMeans\n",
    "import matplotlib.pyplot as plt\n",
    "from sklearn.metrics import silhouette_score\n",
    "from scipy import stats\n",
    "from sklearn.model_selection import train_test_split\n",
    "from sklearn.semi_supervised import LabelPropagation\n",
    "from sklearn.metrics import accuracy_score\n",
    "from sklearn.linear_model import LogisticRegression\n",
    "import lazypredict\n",
    "from lazypredict.Supervised import LazyClassifier"
   ]
  },
  {
   "cell_type": "code",
   "execution_count": 2,
   "id": "b8213084-9e27-429f-8557-c7ad897f6185",
   "metadata": {},
   "outputs": [
    {
     "name": "stderr",
     "output_type": "stream",
     "text": [
      "[MLENS] backend: threading\n"
     ]
    }
   ],
   "source": [
    "from sklearn.neighbors import KNeighborsClassifier\n",
    "from sklearn.linear_model import LogisticRegression\n",
    "from sklearn.tree import DecisionTreeClassifier\n",
    "from sklearn.svm import SVC\n",
    "from sklearn.naive_bayes import GaussianNB\n",
    "from sklearn.ensemble import AdaBoostClassifier\n",
    "from sklearn.ensemble import BaggingClassifier\n",
    "from sklearn.ensemble import RandomForestClassifier\n",
    "from sklearn.ensemble import ExtraTreesClassifier\n",
    "from mlens.ensemble import SuperLearner"
   ]
  },
  {
   "cell_type": "markdown",
   "id": "d0ec1d8c-8ee9-4d30-91c0-daaf81dab5d5",
   "metadata": {},
   "source": [
    "**Analisando o conjunto de treinamento**"
   ]
  },
  {
   "cell_type": "code",
   "execution_count": 3,
   "id": "b4b23c20-8c8b-4a50-9d09-2443a18f7223",
   "metadata": {},
   "outputs": [
    {
     "name": "stdout",
     "output_type": "stream",
     "text": [
      "Tamanho X_train: 800\n"
     ]
    },
    {
     "data": {
      "text/html": [
       "<div>\n",
       "<style scoped>\n",
       "    .dataframe tbody tr th:only-of-type {\n",
       "        vertical-align: middle;\n",
       "    }\n",
       "\n",
       "    .dataframe tbody tr th {\n",
       "        vertical-align: top;\n",
       "    }\n",
       "\n",
       "    .dataframe thead th {\n",
       "        text-align: right;\n",
       "    }\n",
       "</style>\n",
       "<table border=\"1\" class=\"dataframe\">\n",
       "  <thead>\n",
       "    <tr style=\"text-align: right;\">\n",
       "      <th></th>\n",
       "      <th>0</th>\n",
       "      <th>1</th>\n",
       "      <th>2</th>\n",
       "      <th>3</th>\n",
       "      <th>4</th>\n",
       "      <th>5</th>\n",
       "      <th>6</th>\n",
       "      <th>7</th>\n",
       "      <th>8</th>\n",
       "      <th>9</th>\n",
       "      <th>10</th>\n",
       "      <th>11</th>\n",
       "      <th>12</th>\n",
       "      <th>13</th>\n",
       "      <th>14</th>\n",
       "      <th>15</th>\n",
       "      <th>16</th>\n",
       "      <th>17</th>\n",
       "      <th>18</th>\n",
       "      <th>19</th>\n",
       "    </tr>\n",
       "  </thead>\n",
       "  <tbody>\n",
       "    <tr>\n",
       "      <th>0</th>\n",
       "      <td>1.36</td>\n",
       "      <td>-1.51</td>\n",
       "      <td>0.29</td>\n",
       "      <td>1.95</td>\n",
       "      <td>1.36</td>\n",
       "      <td>0.87</td>\n",
       "      <td>0.87</td>\n",
       "      <td>-1.51</td>\n",
       "      <td>1.95</td>\n",
       "      <td>-1.76</td>\n",
       "      <td>-0.38</td>\n",
       "      <td>0.51</td>\n",
       "      <td>-0.16</td>\n",
       "      <td>-1.60</td>\n",
       "      <td>1.36</td>\n",
       "      <td>-3.98</td>\n",
       "      <td>-1.60</td>\n",
       "      <td>-4.40</td>\n",
       "      <td>1.89</td>\n",
       "      <td>0.95</td>\n",
       "    </tr>\n",
       "    <tr>\n",
       "      <th>1</th>\n",
       "      <td>-0.90</td>\n",
       "      <td>-0.48</td>\n",
       "      <td>-1.67</td>\n",
       "      <td>-2.28</td>\n",
       "      <td>-0.90</td>\n",
       "      <td>-1.08</td>\n",
       "      <td>-1.08</td>\n",
       "      <td>-0.48</td>\n",
       "      <td>-2.28</td>\n",
       "      <td>-0.47</td>\n",
       "      <td>1.14</td>\n",
       "      <td>1.06</td>\n",
       "      <td>0.19</td>\n",
       "      <td>-2.88</td>\n",
       "      <td>-0.90</td>\n",
       "      <td>-0.43</td>\n",
       "      <td>-2.88</td>\n",
       "      <td>1.69</td>\n",
       "      <td>1.80</td>\n",
       "      <td>2.77</td>\n",
       "    </tr>\n",
       "    <tr>\n",
       "      <th>2</th>\n",
       "      <td>-2.32</td>\n",
       "      <td>-3.35</td>\n",
       "      <td>0.61</td>\n",
       "      <td>0.43</td>\n",
       "      <td>-2.32</td>\n",
       "      <td>-0.39</td>\n",
       "      <td>-0.39</td>\n",
       "      <td>-3.35</td>\n",
       "      <td>0.43</td>\n",
       "      <td>-5.14</td>\n",
       "      <td>0.16</td>\n",
       "      <td>4.49</td>\n",
       "      <td>-2.40</td>\n",
       "      <td>-7.27</td>\n",
       "      <td>-2.32</td>\n",
       "      <td>-3.39</td>\n",
       "      <td>-7.27</td>\n",
       "      <td>-4.42</td>\n",
       "      <td>2.17</td>\n",
       "      <td>4.53</td>\n",
       "    </tr>\n",
       "    <tr>\n",
       "      <th>3</th>\n",
       "      <td>0.44</td>\n",
       "      <td>-0.36</td>\n",
       "      <td>0.23</td>\n",
       "      <td>-0.08</td>\n",
       "      <td>0.44</td>\n",
       "      <td>2.36</td>\n",
       "      <td>2.36</td>\n",
       "      <td>-0.36</td>\n",
       "      <td>-0.08</td>\n",
       "      <td>-0.45</td>\n",
       "      <td>-1.46</td>\n",
       "      <td>0.54</td>\n",
       "      <td>-2.65</td>\n",
       "      <td>0.84</td>\n",
       "      <td>0.44</td>\n",
       "      <td>-0.76</td>\n",
       "      <td>0.84</td>\n",
       "      <td>-4.42</td>\n",
       "      <td>1.36</td>\n",
       "      <td>0.33</td>\n",
       "    </tr>\n",
       "    <tr>\n",
       "      <th>4</th>\n",
       "      <td>-1.55</td>\n",
       "      <td>-0.54</td>\n",
       "      <td>2.41</td>\n",
       "      <td>2.21</td>\n",
       "      <td>-1.55</td>\n",
       "      <td>-1.11</td>\n",
       "      <td>-1.11</td>\n",
       "      <td>-0.54</td>\n",
       "      <td>2.21</td>\n",
       "      <td>-1.90</td>\n",
       "      <td>0.06</td>\n",
       "      <td>1.88</td>\n",
       "      <td>0.17</td>\n",
       "      <td>-3.14</td>\n",
       "      <td>-1.55</td>\n",
       "      <td>-0.88</td>\n",
       "      <td>-3.14</td>\n",
       "      <td>-1.19</td>\n",
       "      <td>-1.03</td>\n",
       "      <td>-0.44</td>\n",
       "    </tr>\n",
       "  </tbody>\n",
       "</table>\n",
       "</div>"
      ],
      "text/plain": [
       "     0     1     2     3     4     5     6     7     8     9     10   11  \\\n",
       "0  1.36 -1.51  0.29  1.95  1.36  0.87  0.87 -1.51  1.95 -1.76 -0.38 0.51   \n",
       "1 -0.90 -0.48 -1.67 -2.28 -0.90 -1.08 -1.08 -0.48 -2.28 -0.47  1.14 1.06   \n",
       "2 -2.32 -3.35  0.61  0.43 -2.32 -0.39 -0.39 -3.35  0.43 -5.14  0.16 4.49   \n",
       "3  0.44 -0.36  0.23 -0.08  0.44  2.36  2.36 -0.36 -0.08 -0.45 -1.46 0.54   \n",
       "4 -1.55 -0.54  2.41  2.21 -1.55 -1.11 -1.11 -0.54  2.21 -1.90  0.06 1.88   \n",
       "\n",
       "     12    13    14    15    16    17    18    19  \n",
       "0 -0.16 -1.60  1.36 -3.98 -1.60 -4.40  1.89  0.95  \n",
       "1  0.19 -2.88 -0.90 -0.43 -2.88  1.69  1.80  2.77  \n",
       "2 -2.40 -7.27 -2.32 -3.39 -7.27 -4.42  2.17  4.53  \n",
       "3 -2.65  0.84  0.44 -0.76  0.84 -4.42  1.36  0.33  \n",
       "4  0.17 -3.14 -1.55 -0.88 -3.14 -1.19 -1.03 -0.44  "
      ]
     },
     "execution_count": 3,
     "metadata": {},
     "output_type": "execute_result"
    }
   ],
   "source": [
    "# X_train.csv\n",
    "df_X_train = pd.read_csv(\"X_train.csv\", sep=\",\", header=None)\n",
    "print(f'Tamanho X_train: {len(df_X_train)}')\n",
    "df_X_train.head()"
   ]
  },
  {
   "cell_type": "code",
   "execution_count": 4,
   "id": "e8b8320a-163e-4fa8-93f4-fff15ff440e0",
   "metadata": {},
   "outputs": [],
   "source": [
    "# Usando sweetviz para analisar a distribuição das variáveis individualmente\n",
    "# report_X_train= sv.analyze(df_X_train)\n",
    "# report_X_train.show_html('df_X_train.html')"
   ]
  },
  {
   "cell_type": "code",
   "execution_count": 5,
   "id": "a101b829-76e2-4c38-a193-e4fbb12eba3c",
   "metadata": {
    "tags": []
   },
   "outputs": [
    {
     "name": "stdout",
     "output_type": "stream",
     "text": [
      "Tamanho X_train: 770\n"
     ]
    },
    {
     "data": {
      "text/html": [
       "<div>\n",
       "<style scoped>\n",
       "    .dataframe tbody tr th:only-of-type {\n",
       "        vertical-align: middle;\n",
       "    }\n",
       "\n",
       "    .dataframe tbody tr th {\n",
       "        vertical-align: top;\n",
       "    }\n",
       "\n",
       "    .dataframe thead th {\n",
       "        text-align: right;\n",
       "    }\n",
       "</style>\n",
       "<table border=\"1\" class=\"dataframe\">\n",
       "  <thead>\n",
       "    <tr style=\"text-align: right;\">\n",
       "      <th></th>\n",
       "      <th>0</th>\n",
       "      <th>1</th>\n",
       "      <th>2</th>\n",
       "      <th>3</th>\n",
       "      <th>4</th>\n",
       "      <th>5</th>\n",
       "      <th>6</th>\n",
       "      <th>7</th>\n",
       "      <th>8</th>\n",
       "      <th>9</th>\n",
       "      <th>10</th>\n",
       "      <th>11</th>\n",
       "      <th>12</th>\n",
       "      <th>13</th>\n",
       "      <th>14</th>\n",
       "      <th>15</th>\n",
       "      <th>16</th>\n",
       "      <th>17</th>\n",
       "      <th>18</th>\n",
       "      <th>19</th>\n",
       "    </tr>\n",
       "  </thead>\n",
       "  <tbody>\n",
       "    <tr>\n",
       "      <th>0</th>\n",
       "      <td>1.36</td>\n",
       "      <td>-1.51</td>\n",
       "      <td>0.29</td>\n",
       "      <td>1.95</td>\n",
       "      <td>1.36</td>\n",
       "      <td>0.87</td>\n",
       "      <td>0.87</td>\n",
       "      <td>-1.51</td>\n",
       "      <td>1.95</td>\n",
       "      <td>-1.76</td>\n",
       "      <td>-0.38</td>\n",
       "      <td>0.51</td>\n",
       "      <td>-0.16</td>\n",
       "      <td>-1.60</td>\n",
       "      <td>1.36</td>\n",
       "      <td>-3.98</td>\n",
       "      <td>-1.60</td>\n",
       "      <td>-4.40</td>\n",
       "      <td>1.89</td>\n",
       "      <td>0.95</td>\n",
       "    </tr>\n",
       "    <tr>\n",
       "      <th>1</th>\n",
       "      <td>-0.90</td>\n",
       "      <td>-0.48</td>\n",
       "      <td>-1.67</td>\n",
       "      <td>-2.28</td>\n",
       "      <td>-0.90</td>\n",
       "      <td>-1.08</td>\n",
       "      <td>-1.08</td>\n",
       "      <td>-0.48</td>\n",
       "      <td>-2.28</td>\n",
       "      <td>-0.47</td>\n",
       "      <td>1.14</td>\n",
       "      <td>1.06</td>\n",
       "      <td>0.19</td>\n",
       "      <td>-2.88</td>\n",
       "      <td>-0.90</td>\n",
       "      <td>-0.43</td>\n",
       "      <td>-2.88</td>\n",
       "      <td>1.69</td>\n",
       "      <td>1.80</td>\n",
       "      <td>2.77</td>\n",
       "    </tr>\n",
       "    <tr>\n",
       "      <th>3</th>\n",
       "      <td>0.44</td>\n",
       "      <td>-0.36</td>\n",
       "      <td>0.23</td>\n",
       "      <td>-0.08</td>\n",
       "      <td>0.44</td>\n",
       "      <td>2.36</td>\n",
       "      <td>2.36</td>\n",
       "      <td>-0.36</td>\n",
       "      <td>-0.08</td>\n",
       "      <td>-0.45</td>\n",
       "      <td>-1.46</td>\n",
       "      <td>0.54</td>\n",
       "      <td>-2.65</td>\n",
       "      <td>0.84</td>\n",
       "      <td>0.44</td>\n",
       "      <td>-0.76</td>\n",
       "      <td>0.84</td>\n",
       "      <td>-4.42</td>\n",
       "      <td>1.36</td>\n",
       "      <td>0.33</td>\n",
       "    </tr>\n",
       "    <tr>\n",
       "      <th>4</th>\n",
       "      <td>-1.55</td>\n",
       "      <td>-0.54</td>\n",
       "      <td>2.41</td>\n",
       "      <td>2.21</td>\n",
       "      <td>-1.55</td>\n",
       "      <td>-1.11</td>\n",
       "      <td>-1.11</td>\n",
       "      <td>-0.54</td>\n",
       "      <td>2.21</td>\n",
       "      <td>-1.90</td>\n",
       "      <td>0.06</td>\n",
       "      <td>1.88</td>\n",
       "      <td>0.17</td>\n",
       "      <td>-3.14</td>\n",
       "      <td>-1.55</td>\n",
       "      <td>-0.88</td>\n",
       "      <td>-3.14</td>\n",
       "      <td>-1.19</td>\n",
       "      <td>-1.03</td>\n",
       "      <td>-0.44</td>\n",
       "    </tr>\n",
       "    <tr>\n",
       "      <th>5</th>\n",
       "      <td>-0.85</td>\n",
       "      <td>-0.35</td>\n",
       "      <td>-0.62</td>\n",
       "      <td>-0.37</td>\n",
       "      <td>-0.85</td>\n",
       "      <td>-0.34</td>\n",
       "      <td>-0.34</td>\n",
       "      <td>-0.35</td>\n",
       "      <td>-0.37</td>\n",
       "      <td>-1.00</td>\n",
       "      <td>-0.13</td>\n",
       "      <td>0.46</td>\n",
       "      <td>0.04</td>\n",
       "      <td>-1.39</td>\n",
       "      <td>-0.85</td>\n",
       "      <td>0.12</td>\n",
       "      <td>-1.39</td>\n",
       "      <td>0.29</td>\n",
       "      <td>0.48</td>\n",
       "      <td>1.81</td>\n",
       "    </tr>\n",
       "  </tbody>\n",
       "</table>\n",
       "</div>"
      ],
      "text/plain": [
       "     0     1     2     3     4     5     6     7     8     9     10   11  \\\n",
       "0  1.36 -1.51  0.29  1.95  1.36  0.87  0.87 -1.51  1.95 -1.76 -0.38 0.51   \n",
       "1 -0.90 -0.48 -1.67 -2.28 -0.90 -1.08 -1.08 -0.48 -2.28 -0.47  1.14 1.06   \n",
       "3  0.44 -0.36  0.23 -0.08  0.44  2.36  2.36 -0.36 -0.08 -0.45 -1.46 0.54   \n",
       "4 -1.55 -0.54  2.41  2.21 -1.55 -1.11 -1.11 -0.54  2.21 -1.90  0.06 1.88   \n",
       "5 -0.85 -0.35 -0.62 -0.37 -0.85 -0.34 -0.34 -0.35 -0.37 -1.00 -0.13 0.46   \n",
       "\n",
       "     12    13    14    15    16    17    18    19  \n",
       "0 -0.16 -1.60  1.36 -3.98 -1.60 -4.40  1.89  0.95  \n",
       "1  0.19 -2.88 -0.90 -0.43 -2.88  1.69  1.80  2.77  \n",
       "3 -2.65  0.84  0.44 -0.76  0.84 -4.42  1.36  0.33  \n",
       "4  0.17 -3.14 -1.55 -0.88 -3.14 -1.19 -1.03 -0.44  \n",
       "5  0.04 -1.39 -0.85  0.12 -1.39  0.29  0.48  1.81  "
      ]
     },
     "execution_count": 5,
     "metadata": {},
     "output_type": "execute_result"
    }
   ],
   "source": [
    "# Preenchendo os valores NaN\n",
    "df_X_train = df_X_train.fillna(df_X_train.median())\n",
    "\n",
    "# Eliminando os outliers\n",
    "z_scores = stats.zscore(df_X_train)\n",
    "abs_z_scores = np.abs(z_scores)\n",
    "filtered_entries = (abs_z_scores < 3).all(axis=1)\n",
    "df_X_train_unlab = df_X_train[filtered_entries]\n",
    "\n",
    "print(f'Tamanho X_train: {len(df_X_train_unlab)}')\n",
    "df_X_train_unlab.head()"
   ]
  },
  {
   "cell_type": "code",
   "execution_count": 6,
   "id": "dde0a422-702c-45fb-af9e-b079f5c4beb0",
   "metadata": {},
   "outputs": [],
   "source": [
    "# report_X_train_unlab = sv.analyze(df_X_train_unlab)\n",
    "# report_X_train_unlab.show_html('report_X_train_unlab.html')"
   ]
  },
  {
   "cell_type": "markdown",
   "id": "0ebdf201-8407-4852-a396-5fa1f08ac291",
   "metadata": {},
   "source": [
    "**Analisando o conjunto de teste**"
   ]
  },
  {
   "cell_type": "code",
   "execution_count": 7,
   "id": "364c5fe8-a4b4-4c97-86a3-837220b63c54",
   "metadata": {},
   "outputs": [
    {
     "name": "stdout",
     "output_type": "stream",
     "text": [
      "Tamanho X_test: 200\n"
     ]
    },
    {
     "data": {
      "text/html": [
       "<div>\n",
       "<style scoped>\n",
       "    .dataframe tbody tr th:only-of-type {\n",
       "        vertical-align: middle;\n",
       "    }\n",
       "\n",
       "    .dataframe tbody tr th {\n",
       "        vertical-align: top;\n",
       "    }\n",
       "\n",
       "    .dataframe thead th {\n",
       "        text-align: right;\n",
       "    }\n",
       "</style>\n",
       "<table border=\"1\" class=\"dataframe\">\n",
       "  <thead>\n",
       "    <tr style=\"text-align: right;\">\n",
       "      <th></th>\n",
       "      <th>0</th>\n",
       "      <th>1</th>\n",
       "      <th>2</th>\n",
       "      <th>3</th>\n",
       "      <th>4</th>\n",
       "      <th>5</th>\n",
       "      <th>6</th>\n",
       "      <th>7</th>\n",
       "      <th>8</th>\n",
       "      <th>9</th>\n",
       "      <th>10</th>\n",
       "      <th>11</th>\n",
       "      <th>12</th>\n",
       "      <th>13</th>\n",
       "      <th>14</th>\n",
       "      <th>15</th>\n",
       "      <th>16</th>\n",
       "      <th>17</th>\n",
       "      <th>18</th>\n",
       "      <th>19</th>\n",
       "    </tr>\n",
       "  </thead>\n",
       "  <tbody>\n",
       "    <tr>\n",
       "      <th>0</th>\n",
       "      <td>-0.62</td>\n",
       "      <td>-1.63</td>\n",
       "      <td>-3.05</td>\n",
       "      <td>-1.37</td>\n",
       "      <td>-0.62</td>\n",
       "      <td>0.82</td>\n",
       "      <td>0.82</td>\n",
       "      <td>-1.63</td>\n",
       "      <td>-1.37</td>\n",
       "      <td>-2.52</td>\n",
       "      <td>-1.07</td>\n",
       "      <td>0.00</td>\n",
       "      <td>-0.90</td>\n",
       "      <td>-1.01</td>\n",
       "      <td>-0.62</td>\n",
       "      <td>0.02</td>\n",
       "      <td>-1.01</td>\n",
       "      <td>-0.74</td>\n",
       "      <td>1.86</td>\n",
       "      <td>5.28</td>\n",
       "    </tr>\n",
       "    <tr>\n",
       "      <th>1</th>\n",
       "      <td>0.48</td>\n",
       "      <td>-2.69</td>\n",
       "      <td>1.93</td>\n",
       "      <td>2.19</td>\n",
       "      <td>0.48</td>\n",
       "      <td>-1.37</td>\n",
       "      <td>-1.37</td>\n",
       "      <td>-2.69</td>\n",
       "      <td>2.19</td>\n",
       "      <td>-2.65</td>\n",
       "      <td>1.97</td>\n",
       "      <td>2.99</td>\n",
       "      <td>0.22</td>\n",
       "      <td>-5.59</td>\n",
       "      <td>0.48</td>\n",
       "      <td>-5.64</td>\n",
       "      <td>-5.59</td>\n",
       "      <td>-3.26</td>\n",
       "      <td>1.29</td>\n",
       "      <td>0.06</td>\n",
       "    </tr>\n",
       "    <tr>\n",
       "      <th>2</th>\n",
       "      <td>-0.76</td>\n",
       "      <td>0.62</td>\n",
       "      <td>3.10</td>\n",
       "      <td>2.37</td>\n",
       "      <td>-0.76</td>\n",
       "      <td>0.61</td>\n",
       "      <td>0.61</td>\n",
       "      <td>0.62</td>\n",
       "      <td>2.37</td>\n",
       "      <td>-0.04</td>\n",
       "      <td>-1.19</td>\n",
       "      <td>0.32</td>\n",
       "      <td>-1.10</td>\n",
       "      <td>1.74</td>\n",
       "      <td>-0.76</td>\n",
       "      <td>1.70</td>\n",
       "      <td>1.74</td>\n",
       "      <td>-1.50</td>\n",
       "      <td>-2.98</td>\n",
       "      <td>-3.35</td>\n",
       "    </tr>\n",
       "    <tr>\n",
       "      <th>3</th>\n",
       "      <td>1.55</td>\n",
       "      <td>-0.82</td>\n",
       "      <td>0.45</td>\n",
       "      <td>1.95</td>\n",
       "      <td>1.55</td>\n",
       "      <td>2.58</td>\n",
       "      <td>2.58</td>\n",
       "      <td>-0.82</td>\n",
       "      <td>1.95</td>\n",
       "      <td>-0.99</td>\n",
       "      <td>-1.92</td>\n",
       "      <td>-0.59</td>\n",
       "      <td>-1.63</td>\n",
       "      <td>2.05</td>\n",
       "      <td>1.55</td>\n",
       "      <td>-1.64</td>\n",
       "      <td>2.05</td>\n",
       "      <td>-5.17</td>\n",
       "      <td>0.60</td>\n",
       "      <td>-0.24</td>\n",
       "    </tr>\n",
       "    <tr>\n",
       "      <th>4</th>\n",
       "      <td>-1.59</td>\n",
       "      <td>1.55</td>\n",
       "      <td>3.49</td>\n",
       "      <td>3.63</td>\n",
       "      <td>-1.59</td>\n",
       "      <td>1.00</td>\n",
       "      <td>1.00</td>\n",
       "      <td>1.55</td>\n",
       "      <td>3.63</td>\n",
       "      <td>-0.54</td>\n",
       "      <td>-2.79</td>\n",
       "      <td>-0.31</td>\n",
       "      <td>-0.62</td>\n",
       "      <td>2.11</td>\n",
       "      <td>-1.59</td>\n",
       "      <td>2.71</td>\n",
       "      <td>2.11</td>\n",
       "      <td>-2.21</td>\n",
       "      <td>-3.31</td>\n",
       "      <td>-2.81</td>\n",
       "    </tr>\n",
       "  </tbody>\n",
       "</table>\n",
       "</div>"
      ],
      "text/plain": [
       "     0     1     2     3     4     5     6     7     8     9     10    11  \\\n",
       "0 -0.62 -1.63 -3.05 -1.37 -0.62  0.82  0.82 -1.63 -1.37 -2.52 -1.07  0.00   \n",
       "1  0.48 -2.69  1.93  2.19  0.48 -1.37 -1.37 -2.69  2.19 -2.65  1.97  2.99   \n",
       "2 -0.76  0.62  3.10  2.37 -0.76  0.61  0.61  0.62  2.37 -0.04 -1.19  0.32   \n",
       "3  1.55 -0.82  0.45  1.95  1.55  2.58  2.58 -0.82  1.95 -0.99 -1.92 -0.59   \n",
       "4 -1.59  1.55  3.49  3.63 -1.59  1.00  1.00  1.55  3.63 -0.54 -2.79 -0.31   \n",
       "\n",
       "     12    13    14    15    16    17    18    19  \n",
       "0 -0.90 -1.01 -0.62  0.02 -1.01 -0.74  1.86  5.28  \n",
       "1  0.22 -5.59  0.48 -5.64 -5.59 -3.26  1.29  0.06  \n",
       "2 -1.10  1.74 -0.76  1.70  1.74 -1.50 -2.98 -3.35  \n",
       "3 -1.63  2.05  1.55 -1.64  2.05 -5.17  0.60 -0.24  \n",
       "4 -0.62  2.11 -1.59  2.71  2.11 -2.21 -3.31 -2.81  "
      ]
     },
     "execution_count": 7,
     "metadata": {},
     "output_type": "execute_result"
    }
   ],
   "source": [
    "# X_test.csv\n",
    "df_X_test = pd.read_csv(\"X_test.csv\", sep=\",\", header=None)\n",
    "print(f'Tamanho X_test: {len(df_X_test)}')\n",
    "df_X_test.head()"
   ]
  },
  {
   "cell_type": "code",
   "execution_count": 8,
   "id": "93a9e0c8-53c0-45ad-b1a8-e54058dfb494",
   "metadata": {},
   "outputs": [],
   "source": [
    "# report_X_test = sv.analyze(df_X_test)\n",
    "# report_X_test.show_html('report_X_test.html')"
   ]
  },
  {
   "cell_type": "code",
   "execution_count": 9,
   "id": "e49f6a02-6e78-4abf-b17a-341c92567398",
   "metadata": {},
   "outputs": [
    {
     "name": "stdout",
     "output_type": "stream",
     "text": [
      "Tamanho X_test: 200\n"
     ]
    },
    {
     "data": {
      "text/html": [
       "<div>\n",
       "<style scoped>\n",
       "    .dataframe tbody tr th:only-of-type {\n",
       "        vertical-align: middle;\n",
       "    }\n",
       "\n",
       "    .dataframe tbody tr th {\n",
       "        vertical-align: top;\n",
       "    }\n",
       "\n",
       "    .dataframe thead th {\n",
       "        text-align: right;\n",
       "    }\n",
       "</style>\n",
       "<table border=\"1\" class=\"dataframe\">\n",
       "  <thead>\n",
       "    <tr style=\"text-align: right;\">\n",
       "      <th></th>\n",
       "      <th>0</th>\n",
       "    </tr>\n",
       "  </thead>\n",
       "  <tbody>\n",
       "    <tr>\n",
       "      <th>0</th>\n",
       "      <td>1.00</td>\n",
       "    </tr>\n",
       "    <tr>\n",
       "      <th>1</th>\n",
       "      <td>0.00</td>\n",
       "    </tr>\n",
       "    <tr>\n",
       "      <th>2</th>\n",
       "      <td>1.00</td>\n",
       "    </tr>\n",
       "    <tr>\n",
       "      <th>3</th>\n",
       "      <td>0.00</td>\n",
       "    </tr>\n",
       "    <tr>\n",
       "      <th>4</th>\n",
       "      <td>1.00</td>\n",
       "    </tr>\n",
       "  </tbody>\n",
       "</table>\n",
       "</div>"
      ],
      "text/plain": [
       "     0\n",
       "0 1.00\n",
       "1 0.00\n",
       "2 1.00\n",
       "3 0.00\n",
       "4 1.00"
      ]
     },
     "execution_count": 9,
     "metadata": {},
     "output_type": "execute_result"
    }
   ],
   "source": [
    "# Y_test.csv\n",
    "df_Y_test = pd.read_csv(\"y_test.csv\", sep=\",\", header=None)\n",
    "print(f'Tamanho X_test: {len(df_Y_test)}')\n",
    "df_Y_test.head()"
   ]
  },
  {
   "cell_type": "code",
   "execution_count": 10,
   "id": "f0248ae0-4e6a-49af-be90-67d510d92402",
   "metadata": {},
   "outputs": [],
   "source": [
    "# report_Y_test = sv.analyze(df_Y_test)\n",
    "# report_Y_test.show_html('report_Y_test.html')"
   ]
  },
  {
   "cell_type": "markdown",
   "id": "b6ad56d9-25bc-4b96-841e-2bdf1b87d178",
   "metadata": {},
   "source": [
    "## **Semisupervised Learning usando Propagação dos Labels**"
   ]
  },
  {
   "cell_type": "markdown",
   "id": "bf6005ac-20ff-46ee-8b26-0138c15013ab",
   "metadata": {},
   "source": [
    "Reservando 70% do teste para teste e usando 30% do teste para adicionar data rotulada no treino."
   ]
  },
  {
   "cell_type": "code",
   "execution_count": 11,
   "id": "1f7367f6-0899-48df-a4a1-ca6c3e5a5061",
   "metadata": {},
   "outputs": [],
   "source": [
    "# Dividindo o conjunto de teste em duas partes\n",
    "df_X_train_lab, df_X_test_small, df_y_train_lab, df_y_test_small = train_test_split(df_X_test, df_Y_test, test_size=0.70, random_state=1, stratify=df_Y_test)\n",
    "\n",
    "# Resetando os índices\n",
    "df_X_train_lab = df_X_train_lab.reset_index(drop=True)\n",
    "df_y_train_lab = df_y_train_lab.reset_index(drop=True)\n",
    "df_X_test_small = df_X_test_small.reset_index(drop=True)\n",
    "df_y_test_small = df_y_test_small.reset_index(drop=True)"
   ]
  },
  {
   "cell_type": "code",
   "execution_count": 12,
   "id": "047a5fd4-1e2b-4139-a04e-278e6dc57284",
   "metadata": {},
   "outputs": [
    {
     "name": "stdout",
     "output_type": "stream",
     "text": [
      "Conjunto de treino UNLABELED e sem outliers: (770, 20)\n",
      "Conjunto de treino LABELED: (60, 20) (60, 1)\n",
      "Conjunto reservado para TESTE: (140, 20) (140, 1)\n"
     ]
    }
   ],
   "source": [
    "# Resumindo\n",
    "print('Conjunto de treino UNLABELED e sem outliers:', df_X_train_unlab.shape)\n",
    "print('Conjunto de treino LABELED:', df_X_train_lab.shape, df_y_train_lab.shape)\n",
    "print('Conjunto reservado para TESTE:', df_X_test_small.shape, df_y_test_small.shape)"
   ]
  },
  {
   "cell_type": "code",
   "execution_count": 13,
   "id": "c262fb85-40d4-41cf-bdeb-b23dce95dbb5",
   "metadata": {},
   "outputs": [
    {
     "data": {
      "text/plain": [
       "0.00    30\n",
       "1.00    30\n",
       "Name: 0, dtype: int64"
      ]
     },
     "execution_count": 13,
     "metadata": {},
     "output_type": "execute_result"
    }
   ],
   "source": [
    "df_y_train_lab[0].value_counts()"
   ]
  },
  {
   "cell_type": "code",
   "execution_count": 14,
   "id": "39e49a12-9566-4175-9803-57a61e4c7908",
   "metadata": {},
   "outputs": [
    {
     "data": {
      "text/plain": [
       "1.00    71\n",
       "0.00    69\n",
       "Name: 0, dtype: int64"
      ]
     },
     "execution_count": 14,
     "metadata": {},
     "output_type": "execute_result"
    }
   ],
   "source": [
    "df_y_test_small[0].value_counts()"
   ]
  },
  {
   "cell_type": "code",
   "execution_count": 15,
   "id": "11681b4a-a9b9-4a2f-874f-55d0a8a4a7f5",
   "metadata": {},
   "outputs": [
    {
     "name": "stdout",
     "output_type": "stream",
     "text": [
      "Conjunto de treino MISTURADO: (830, 20) (830, 1)\n"
     ]
    }
   ],
   "source": [
    "# Criando \"y_train_unlab\" preenchido com \"-1\"\n",
    "y_train_unlab = [-1 for _ in range(len(df_X_train_unlab))]\n",
    "df_y_train_unlab = pd.DataFrame(y_train_unlab)\n",
    "\n",
    "# Misturando o X de treino com labels e sem labels\n",
    "df_X_train_misturado = pd.concat([df_X_train_unlab, df_X_train_lab])\n",
    "# Misturando o Y de treino com labels e sem labels\n",
    "df_y_train_misturado = pd.concat([df_y_train_unlab, df_y_train_lab])\n",
    "\n",
    "print('Conjunto de treino MISTURADO:', df_X_train_misturado.shape, df_y_train_misturado.shape)\n",
    "df_y_train_misturado = df_y_train_misturado.astype(int)"
   ]
  },
  {
   "cell_type": "code",
   "execution_count": null,
   "id": "1cb1195f-b483-46a4-9ad5-8494d83b4c30",
   "metadata": {},
   "outputs": [],
   "source": [
    "# Convertendo as entradas do modelo para NumPy Array, https://scikit-learn.org/stable/modules/generated/sklearn.semi_supervised.LabelPropagation.html\n",
    "X_train_misturado = df_X_train_misturado.to_numpy()\n",
    "print(X_train_misturado.shape)\n",
    "y_train_misturado = df_y_train_misturado.to_numpy()\n",
    "y_train_misturado = np.ravel(y_train_misturado)\n",
    "print(y_train_misturado.shape)\n",
    "X_test_small = df_X_test_small.to_numpy()\n",
    "y_test_small = df_y_test_small.to_numpy()\n",
    "y_test_small = np.ravel(y_test_small)"
   ]
  },
  {
   "cell_type": "markdown",
   "id": "6269849d-58f3-4507-b871-3982fb18f84e",
   "metadata": {},
   "source": [
    "### **Label Propagation**"
   ]
  },
  {
   "cell_type": "code",
   "execution_count": null,
   "id": "b4371cf0-f067-43da-b577-6d658af7c186",
   "metadata": {},
   "outputs": [],
   "source": [
    "def rbf_kernel_safe(X, Y=None, gamma=None): \n",
    "\n",
    "      X, Y = sklearn.metrics.pairwise.check_pairwise_arrays(X, Y) \n",
    "      if gamma is None: \n",
    "          gamma = 1.0 / X.shape[1] \n",
    "\n",
    "      K = sklearn.metrics.pairwise.euclidean_distances(X, Y, squared=True) \n",
    "      K *= -gamma \n",
    "      K -= K.max()\n",
    "      np.exp(K, K)    # exponentiate K in-place \n",
    "      return K "
   ]
  },
  {
   "cell_type": "code",
   "execution_count": null,
   "id": "4313c270-a2b0-4f60-b138-3edda5c2359b",
   "metadata": {},
   "outputs": [],
   "source": [
    "model1 = LabelPropagation(kernel = rbf_kernel_safe, gamma=20, max_iter=5000)\n",
    "model1.fit(X_train_misturado, y_train_misturado)\n",
    "\n",
    "tran_labels = model1.transduction_"
   ]
  },
  {
   "cell_type": "markdown",
   "id": "577f7610-fa1a-4312-ab6a-326f7e97c9c7",
   "metadata": {},
   "source": [
    "## **Pegando os rótulos estimados e ajustando modelos de aprendizado supervisionado**"
   ]
  },
  {
   "cell_type": "markdown",
   "id": "2b28830a-0f5f-4352-ac75-80ee9cb1bfdf",
   "metadata": {},
   "source": [
    "### Testando um modelo individual: **LogisticRegression**"
   ]
  },
  {
   "cell_type": "code",
   "execution_count": null,
   "id": "75f2ab2a-8e4f-4d0c-a333-4f3bfa6d5dcd",
   "metadata": {},
   "outputs": [],
   "source": [
    "model2 = LogisticRegression()\n",
    "model2.fit(X_train_misturado, tran_labels)\n",
    "\n",
    "yhat2 = model2.predict(X_test_small)\n",
    "score2 = accuracy_score(y_test_small, yhat2)\n",
    "print('AUC: %.3f' % (score2*100))"
   ]
  },
  {
   "cell_type": "markdown",
   "id": "6303a087-b34b-424c-be47-bca42c486ffd",
   "metadata": {},
   "source": [
    "## Testando um **Super Learner** usando a livraria mlens"
   ]
  },
  {
   "cell_type": "code",
   "execution_count": null,
   "id": "454ba0c2-0d3b-4741-af27-89b7a456e15f",
   "metadata": {},
   "outputs": [],
   "source": [
    "# Lista de modelos base\n",
    "def get_models():\n",
    "    models = list()\n",
    "    models.append(LogisticRegression(solver='liblinear'))\n",
    "    models.append(DecisionTreeClassifier())\n",
    "    models.append(SVC(gamma='scale', probability=True))\n",
    "    models.append(GaussianNB())\n",
    "    models.append(KNeighborsClassifier())\n",
    "    models.append(AdaBoostClassifier())\n",
    "    models.append(BaggingClassifier(n_estimators=10))\n",
    "    models.append(RandomForestClassifier(n_estimators=10))\n",
    "    models.append(ExtraTreesClassifier(n_estimators=10))\n",
    "    return models\n",
    " \n",
    "# Criando o super learner\n",
    "def get_super_learner(X):\n",
    "    ensemble = SuperLearner(scorer=accuracy_score, folds=10, shuffle=True, sample_size=len(X))\n",
    "    # add base models\n",
    "    models = get_models()\n",
    "    ensemble.add(models)\n",
    "    # add the meta model\n",
    "    ensemble.add_meta(LogisticRegression(solver='lbfgs'))\n",
    "    return ensemble\n",
    " \n",
    "\n",
    "ensemble = get_super_learner(X_train_misturado)\n",
    "ensemble.fit(X_train_misturado, tran_labels)\n",
    "print(ensemble.data)\n",
    "yhat4 = ensemble.predict(X_test_small)\n",
    "print('AUC: %.3f' % (accuracy_score(y_test_small, yhat4) * 100))"
   ]
  },
  {
   "cell_type": "code",
   "execution_count": null,
   "id": "f51cc602-e749-4e6f-ba47-5023af4f94ef",
   "metadata": {},
   "outputs": [],
   "source": []
  }
 ],
 "metadata": {
  "kernelspec": {
   "display_name": "Python 3 (ipykernel)",
   "language": "python",
   "name": "python3"
  },
  "language_info": {
   "codemirror_mode": {
    "name": "ipython",
    "version": 3
   },
   "file_extension": ".py",
   "mimetype": "text/x-python",
   "name": "python",
   "nbconvert_exporter": "python",
   "pygments_lexer": "ipython3",
   "version": "3.7.10"
  }
 },
 "nbformat": 4,
 "nbformat_minor": 5
}
